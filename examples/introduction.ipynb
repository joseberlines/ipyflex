{
 "cells": [
  {
   "cell_type": "code",
   "execution_count": null,
   "metadata": {
    "tags": []
   },
   "outputs": [],
   "source": [
    "import numpy as np\n",
    "from IPython.display import display\n",
    "from bqplot import (\n",
    "    OrdinalScale, LinearScale, Bars, Lines, Axis, Figure\n",
    ")\n",
    "\n",
    "size = 20\n",
    "np.random.seed(0)\n",
    "\n",
    "x_data = np.arange(size)\n",
    "\n",
    "x_ord = OrdinalScale()\n",
    "y_sc = LinearScale()\n",
    "\n",
    "bar = Bars(x=x_data, y=np.random.randn(2, size), scales={'x': x_ord, 'y':\n",
    "y_sc}, type='stacked')\n",
    "line = Lines(x=x_data, y=np.random.randn(size), scales={'x': x_ord, 'y': y_sc},\n",
    "             stroke_width=3, colors=['red'], display_legend=True, labels=['Line chart'])\n",
    "\n",
    "ax_x = Axis(scale=x_ord, grid_lines='solid', label='X')\n",
    "ax_y = Axis(scale=y_sc, orientation='vertical', tick_format='0.2f',\n",
    "            grid_lines='solid', label='Y')\n",
    "\n",
    "fig = Figure(marks=[bar, line], axes=[ax_x, ax_y], title='API Example',\n",
    "       legend_location='bottom-right')\n",
    "\n",
    "import ipyflex, ipywidgets as widgets\n",
    "slider = widgets.FloatSlider(description='$x$')\n",
    "text = widgets.FloatText(disabled=True, description='$x^2$')\n",
    "\n",
    "def compute(*ignore):\n",
    "    text.value = str(slider.value ** 2)\n",
    "\n",
    "slider.observe(compute, 'value')\n",
    "\n",
    "slider.value = 4\n",
    "\n",
    "a = widgets.Button(description = 'a')\n",
    "b = widgets.Button(description = 'b')\n",
    "children = {'button': a, 'button b': b,  'slider': slider, 'text': text,'figure':fig}\n",
    "layout_config = {'borderLeft': True, 'borderRight': True}\n",
    "\n",
    "w = ipyflex.FlexLayout(children ,editable= True, template = 'lock.json')\n",
    "w"
   ]
  },
  {
   "cell_type": "code",
   "execution_count": null,
   "metadata": {},
   "outputs": [],
   "source": [
    "w.add('kkk',slider)"
   ]
  },
  {
   "cell_type": "code",
   "execution_count": null,
   "metadata": {},
   "outputs": [],
   "source": [
    "w.add('jji',text)"
   ]
  },
  {
   "cell_type": "code",
   "execution_count": null,
   "metadata": {},
   "outputs": [],
   "source": []
  }
 ],
 "metadata": {
  "kernelspec": {
   "display_name": "Python 3 (ipykernel)",
   "language": "python",
   "name": "python3"
  },
  "language_info": {
   "codemirror_mode": {
    "name": "ipython",
    "version": 3
   },
   "file_extension": ".py",
   "mimetype": "text/x-python",
   "name": "python",
   "nbconvert_exporter": "python",
   "pygments_lexer": "ipython3",
   "version": "3.9.7"
  },
  "widgets": {
   "application/vnd.jupyter.widget-state+json": {
    "state": {
     "0934fa6df9ec454c86ff95e4d99a3000": {
      "model_module": "@jupyter-widgets/controls",
      "model_module_version": "1.5.0",
      "model_name": "FloatSliderModel",
      "state": {
       "description": "$x$",
       "layout": "IPY_MODEL_a5dd8ae874cf4231bd1e62649ec94afd",
       "step": 0.1,
       "style": "IPY_MODEL_ec7c8ee8c8f34c40b296dc9efdbf1c58",
       "value": 4
      }
     },
     "1c1d3386bfed445f9124689f4a74c504": {
      "model_module": "@jupyter-widgets/controls",
      "model_module_version": "1.5.0",
      "model_name": "ButtonStyleModel",
      "state": {}
     },
     "21432e6edb5c45478af8eb591fdb3da4": {
      "model_module": "@jupyter-widgets/controls",
      "model_module_version": "1.5.0",
      "model_name": "DescriptionStyleModel",
      "state": {
       "description_width": ""
      }
     },
     "359499ced96a4e059218184f795acc25": {
      "model_module": "@jupyter-widgets/controls",
      "model_module_version": "1.5.0",
      "model_name": "ButtonModel",
      "state": {
       "description": "b",
       "layout": "IPY_MODEL_b669c7bb68494d728c806e5edc99700f",
       "style": "IPY_MODEL_92cf4e875fd1425597b876889f9bbe74"
      }
     },
     "58d08a46f6eb4021bcfa70fc5e9367d7": {
      "model_module": "bqplot",
      "model_module_version": "^0.5.32",
      "model_name": "LinearScaleModel",
      "state": {
       "allow_padding": false,
       "max": 1,
       "min": 0,
       "stabilized": false
      }
     },
     "6169056988ac45479076ef3635f56f07": {
      "model_module": "ipyflex",
      "model_module_version": "^0.1.0",
      "model_name": "FlexLayoutModel",
      "state": {
       "_model_module_version": "^0.1.0",
       "_view_module_version": "^0.1.0",
       "children": {
        "button": "IPY_MODEL_ef00726dcf8c49f9bc2d14466bbe6eff",
        "button b": "IPY_MODEL_359499ced96a4e059218184f795acc25",
        "figure": "IPY_MODEL_da388f30fe5f44eba7c40cf62812a71a",
        "slider": "IPY_MODEL_0934fa6df9ec454c86ff95e4d99a3000",
        "text": "IPY_MODEL_d613f27150d84c61bdea906d80a88ab7"
       },
       "layout": "IPY_MODEL_6d2dd08aafa64b58ae52e1b81037c38f",
       "template": null
      }
     },
     "6d2dd08aafa64b58ae52e1b81037c38f": {
      "model_module": "@jupyter-widgets/base",
      "model_module_version": "1.2.0",
      "model_name": "LayoutModel",
      "state": {}
     },
     "7225eefbe57d413692837e3c95ab5260": {
      "model_module": "bqplot",
      "model_module_version": "^0.5.32",
      "model_name": "AxisModel",
      "state": {
       "label": "Y",
       "orientation": "vertical",
       "scale": "IPY_MODEL_e7729ee2bfcd41f38079655894d71487",
       "side": "left",
       "tick_format": "0.2f",
       "tick_values": null
      }
     },
     "8f88d7b99fad46f7859c862935555647": {
      "model_module": "bqplot",
      "model_module_version": "^0.5.32",
      "model_name": "LinearScaleModel",
      "state": {
       "allow_padding": false,
       "max": 1,
       "min": 0,
       "stabilized": false
      }
     },
     "92cf4e875fd1425597b876889f9bbe74": {
      "model_module": "@jupyter-widgets/controls",
      "model_module_version": "1.5.0",
      "model_name": "ButtonStyleModel",
      "state": {}
     },
     "a5dd8ae874cf4231bd1e62649ec94afd": {
      "model_module": "@jupyter-widgets/base",
      "model_module_version": "1.2.0",
      "model_name": "LayoutModel",
      "state": {}
     },
     "b669c7bb68494d728c806e5edc99700f": {
      "model_module": "@jupyter-widgets/base",
      "model_module_version": "1.2.0",
      "model_name": "LayoutModel",
      "state": {}
     },
     "bbbf2fb64751463ab14c6ee430d3ccac": {
      "buffers": [
       {
        "data": "AAAAAAEAAAACAAAAAwAAAAQAAAAFAAAABgAAAAcAAAAIAAAACQAAAAoAAAALAAAADAAAAA0AAAAOAAAADwAAABAAAAARAAAAEgAAABMAAAA=",
        "encoding": "base64",
        "path": [
         "x",
         "value"
        ]
       },
       {
        "data": "U2RRed/G8L9drH66ZLj2v2D8rfjhTPu/zMrFQmA2/z82q54XEk/gv2XWqMtoCdy/buu/JXML9L9RHGh0M+HoPwSKpYyG0vm/o8oH0RI7y78ioV99qafsv5r1wrECw9g/P5YPBIRY4L+ukraS3uPyvxP1K1TN25y/Qs/wE8pp2z+1p8HORQexPzkXMBezW9M/+a3v2F1M5L96+DS5JjfXvw==",
        "encoding": "base64",
        "path": [
         "y",
         "value"
        ]
       }
      ],
      "model_module": "bqplot",
      "model_module_version": "^0.5.32",
      "model_name": "LinesModel",
      "state": {
       "colors": [
        "red"
       ],
       "display_legend": true,
       "fill_colors": [],
       "labels": [
        "Line chart"
       ],
       "scales": {
        "x": "IPY_MODEL_d9e8ce70246544f9bc1ff8cb47aa08dc",
        "y": "IPY_MODEL_e7729ee2bfcd41f38079655894d71487"
       },
       "stroke_width": 3,
       "x": {
        "dtype": "int32",
        "shape": [
         20
        ],
        "type": null,
        "value": {}
       },
       "y": {
        "dtype": "float64",
        "shape": [
         20
        ],
        "type": null,
        "value": {}
       }
      }
     },
     "bf1632d685f34bc7b166af906c6cc503": {
      "model_module": "bqplot",
      "model_module_version": "^0.5.32",
      "model_name": "AxisModel",
      "state": {
       "label": "X",
       "scale": "IPY_MODEL_d9e8ce70246544f9bc1ff8cb47aa08dc",
       "side": "bottom",
       "tick_values": null
      }
     },
     "d53e99d9ec264c52934afbea7e313f34": {
      "model_module": "@jupyter-widgets/base",
      "model_module_version": "1.2.0",
      "model_name": "LayoutModel",
      "state": {}
     },
     "d613f27150d84c61bdea906d80a88ab7": {
      "model_module": "@jupyter-widgets/controls",
      "model_module_version": "1.5.0",
      "model_name": "FloatTextModel",
      "state": {
       "description": "$x^2$",
       "disabled": true,
       "layout": "IPY_MODEL_d53e99d9ec264c52934afbea7e313f34",
       "step": null,
       "style": "IPY_MODEL_21432e6edb5c45478af8eb591fdb3da4",
       "value": 16
      }
     },
     "d763bdf1027c482ab04dec8a1ce2a127": {
      "model_module": "@jupyter-widgets/base",
      "model_module_version": "1.2.0",
      "model_name": "LayoutModel",
      "state": {}
     },
     "d9e8ce70246544f9bc1ff8cb47aa08dc": {
      "model_module": "bqplot",
      "model_module_version": "^0.5.32",
      "model_name": "OrdinalScaleModel",
      "state": {}
     },
     "da388f30fe5f44eba7c40cf62812a71a": {
      "model_module": "bqplot",
      "model_module_version": "^0.5.32",
      "model_name": "FigureModel",
      "state": {
       "axes": [
        "IPY_MODEL_bf1632d685f34bc7b166af906c6cc503",
        "IPY_MODEL_7225eefbe57d413692837e3c95ab5260"
       ],
       "layout": "IPY_MODEL_d763bdf1027c482ab04dec8a1ce2a127",
       "legend_location": "bottom-right",
       "marks": [
        "IPY_MODEL_fabe6638fee1489e9ad99505db8bce5f",
        "IPY_MODEL_bbbf2fb64751463ab14c6ee430d3ccac"
       ],
       "scale_x": "IPY_MODEL_58d08a46f6eb4021bcfa70fc5e9367d7",
       "scale_y": "IPY_MODEL_8f88d7b99fad46f7859c862935555647",
       "title": "API Example"
      }
     },
     "e3e9a84e83a14c69b3215672efe5f069": {
      "model_module": "@jupyter-widgets/base",
      "model_module_version": "1.2.0",
      "model_name": "LayoutModel",
      "state": {}
     },
     "e7729ee2bfcd41f38079655894d71487": {
      "model_module": "bqplot",
      "model_module_version": "^0.5.32",
      "model_name": "LinearScaleModel",
      "state": {
       "stabilized": false
      }
     },
     "ec7c8ee8c8f34c40b296dc9efdbf1c58": {
      "model_module": "@jupyter-widgets/controls",
      "model_module_version": "1.5.0",
      "model_name": "SliderStyleModel",
      "state": {
       "description_width": ""
      }
     },
     "ef00726dcf8c49f9bc2d14466bbe6eff": {
      "model_module": "@jupyter-widgets/controls",
      "model_module_version": "1.5.0",
      "model_name": "ButtonModel",
      "state": {
       "description": "a",
       "layout": "IPY_MODEL_e3e9a84e83a14c69b3215672efe5f069",
       "style": "IPY_MODEL_1c1d3386bfed445f9124689f4a74c504"
      }
     },
     "fabe6638fee1489e9ad99505db8bce5f": {
      "buffers": [
       {
        "data": "AAAAAAEAAAACAAAAAwAAAAQAAAAFAAAABgAAAAcAAAAIAAAACQAAAAoAAAALAAAADAAAAA0AAAAOAAAADwAAABAAAAARAAAAEgAAABMAAAA=",
        "encoding": "base64",
        "path": [
         "x",
         "value"
        ]
       },
       {
        "data": "pc/l8445/D9Ticz6LJzZP6vJIlLSUe8/TjHjaVntAUDaPbF8hOH9P4KMpULcRe+/6ZUy0x9n7j82hNNJrF/Dv1m0yPiMbLq/Ziln8D5H2j/t4aoNBXDCP/eF/Uu0RPc/E+qQyWta6D+Qs5MIGCa/P8t1IlVBaNw/5JXlkOta1T87mU11v+f3P7ZqsECgQsq/hJEBHU0J1D/whX6WwFTrvw==",
        "encoding": "base64",
        "path": [
         "y",
         0,
         "value"
        ]
       },
       {
        "data": "Ojqw7IVsBMBmKW+LcerkP2yQchp2qes/2S9c29C/57+9xb8cdSgCQA06DfEURfe/XXWlDqltpz84pBnxo/XHv8eHWn9Dhvg/DgBtV36C9z/P2/s2UdXDPzPqkJHQM9g/yqP9p71o7L943TCjV7H/v0Upz1ExRNa/7k6INj4DxD9FyeRHRa/zPyRg/qbyPPM/+GBoa/bJ2L/1j82i7VjTvw==",
        "encoding": "base64",
        "path": [
         "y",
         1,
         "value"
        ]
       }
      ],
      "model_module": "bqplot",
      "model_module_version": "^0.5.32",
      "model_name": "BarsModel",
      "state": {
       "label_font_style": {},
       "scales": {
        "x": "IPY_MODEL_d9e8ce70246544f9bc1ff8cb47aa08dc",
        "y": "IPY_MODEL_e7729ee2bfcd41f38079655894d71487"
       },
       "x": {
        "dtype": "int32",
        "shape": [
         20
        ],
        "type": null,
        "value": {}
       },
       "y": [
        {
         "dtype": "float64",
         "shape": [
          20
         ],
         "type": null,
         "value": {}
        },
        {
         "dtype": "float64",
         "shape": [
          20
         ],
         "type": null,
         "value": {}
        }
       ]
      }
     }
    },
    "version_major": 2,
    "version_minor": 0
   }
  }
 },
 "nbformat": 4,
 "nbformat_minor": 4
}
