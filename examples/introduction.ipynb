{
 "cells": [
  {
   "cell_type": "code",
   "execution_count": 4,
   "metadata": {},
   "outputs": [
    {
     "data": {
      "application/vnd.jupyter.widget-view+json": {
       "model_id": "cf3793503381461085fc548be9ecea9c",
       "version_major": 2,
       "version_minor": 0
      },
      "text/plain": [
       "FlexLayout(children={'button': Button(description='a', style=ButtonStyle()), 'button b': Button(description='b…"
      ]
     },
     "metadata": {},
     "output_type": "display_data"
    }
   ],
   "source": [
    "import numpy as np\n",
    "from IPython.display import display\n",
    "from bqplot import (\n",
    "    OrdinalScale, LinearScale, Bars, Lines, Axis, Figure\n",
    ")\n",
    "\n",
    "size = 20\n",
    "np.random.seed(0)\n",
    "\n",
    "x_data = np.arange(size)\n",
    "\n",
    "x_ord = OrdinalScale()\n",
    "y_sc = LinearScale()\n",
    "\n",
    "bar = Bars(x=x_data, y=np.random.randn(2, size), scales={'x': x_ord, 'y':\n",
    "y_sc}, type='stacked')\n",
    "line = Lines(x=x_data, y=np.random.randn(size), scales={'x': x_ord, 'y': y_sc},\n",
    "             stroke_width=3, colors=['red'], display_legend=True, labels=['Line chart'])\n",
    "\n",
    "ax_x = Axis(scale=x_ord, grid_lines='solid', label='X')\n",
    "ax_y = Axis(scale=y_sc, orientation='vertical', tick_format='0.2f',\n",
    "            grid_lines='solid', label='Y')\n",
    "\n",
    "fig = Figure(marks=[bar, line], axes=[ax_x, ax_y], title='API Example',\n",
    "       legend_location='bottom-right')\n",
    "\n",
    "import ipyflex, ipywidgets as widgets\n",
    "slider = widgets.FloatSlider(description='$x$')\n",
    "text = widgets.FloatText(disabled=True, description='$x^2$')\n",
    "\n",
    "def compute(*ignore):\n",
    "    text.value = str(slider.value ** 2)\n",
    "\n",
    "slider.observe(compute, 'value')\n",
    "\n",
    "slider.value = 4\n",
    "\n",
    "a = widgets.Button(description = 'a')\n",
    "b = widgets.Button(description = 'b')\n",
    "children = {'button': a, 'button b': b,  'slider': slider, 'text': text,'figure':fig}\n",
    "layout_config = {'borderLeft': True, 'borderRight': True}\n",
    "\n",
    "w = ipyflex.FlexLayout(children, style ={'height':'300px'})\n",
    "w"
   ]
  },
  {
   "cell_type": "code",
   "execution_count": null,
   "metadata": {},
   "outputs": [],
   "source": []
  },
  {
   "cell_type": "code",
   "execution_count": null,
   "metadata": {},
   "outputs": [],
   "source": []
  },
  {
   "cell_type": "code",
   "execution_count": null,
   "metadata": {},
   "outputs": [],
   "source": []
  }
 ],
 "metadata": {
  "kernelspec": {
   "display_name": "Python 3 (ipykernel)",
   "language": "python",
   "name": "python3"
  },
  "language_info": {
   "codemirror_mode": {
    "name": "ipython",
    "version": 3
   },
   "file_extension": ".py",
   "mimetype": "text/x-python",
   "name": "python",
   "nbconvert_exporter": "python",
   "pygments_lexer": "ipython3",
   "version": "3.9.7"
  }
 },
 "nbformat": 4,
 "nbformat_minor": 4
}
