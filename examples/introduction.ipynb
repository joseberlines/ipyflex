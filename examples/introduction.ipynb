{
 "cells": [
  {
   "cell_type": "code",
   "execution_count": 10,
   "metadata": {
    "tags": []
   },
   "outputs": [
    {
     "data": {
      "application/vnd.jupyter.widget-view+json": {
       "model_id": "4e835ce278d84fb1bdd7d5a7d6da4d77",
       "version_major": 2,
       "version_minor": 0
      },
      "text/plain": [
       "FlexLayout(children={'button': Button(description='a', style=ButtonStyle()), 'button b': Button(description='b…"
      ]
     },
     "metadata": {},
     "output_type": "display_data"
    }
   ],
   "source": [
    "import numpy as np\n",
    "from IPython.display import display\n",
    "from bqplot import (\n",
    "    OrdinalScale, LinearScale, Bars, Lines, Axis, Figure\n",
    ")\n",
    "\n",
    "size = 20\n",
    "np.random.seed(0)\n",
    "\n",
    "x_data = np.arange(size)\n",
    "\n",
    "x_ord = OrdinalScale()\n",
    "y_sc = LinearScale()\n",
    "\n",
    "bar = Bars(x=x_data, y=np.random.randn(2, size), scales={'x': x_ord, 'y':\n",
    "y_sc}, type='stacked')\n",
    "line = Lines(x=x_data, y=np.random.randn(size), scales={'x': x_ord, 'y': y_sc},\n",
    "             stroke_width=3, colors=['red'], display_legend=True, labels=['Line chart'])\n",
    "\n",
    "ax_x = Axis(scale=x_ord, grid_lines='solid', label='X')\n",
    "ax_y = Axis(scale=y_sc, orientation='vertical', tick_format='0.2f',\n",
    "            grid_lines='solid', label='Y')\n",
    "\n",
    "fig = Figure(marks=[bar, line], axes=[ax_x, ax_y], title='API Example',\n",
    "       legend_location='bottom-right')\n",
    "\n",
    "import ipyflex, ipywidgets as widgets\n",
    "slider = widgets.FloatSlider(description='$x$')\n",
    "text = widgets.FloatText(disabled=True, description='$x^2$')\n",
    "\n",
    "def compute(*ignore):\n",
    "    text.value = str(slider.value ** 2)\n",
    "\n",
    "slider.observe(compute, 'value')\n",
    "\n",
    "slider.value = 4\n",
    "\n",
    "a = widgets.Button(description = 'a')\n",
    "b = widgets.Button(description = 'b')\n",
    "children = {'button': a, 'button b': b,  'slider': slider, 'text': text,'figure':fig}\n",
    "layout_config = {'borderLeft': True, 'borderRight': True}\n",
    "\n",
    "w = ipyflex.FlexLayout(children, template='kkk.json')\n",
    "w"
   ]
  },
  {
   "cell_type": "code",
   "execution_count": 11,
   "metadata": {},
   "outputs": [],
   "source": [
    "w.add('fas',a)"
   ]
  },
  {
   "cell_type": "code",
   "execution_count": 3,
   "metadata": {},
   "outputs": [
    {
     "data": {
      "text/plain": [
       "{'button': Button(description='a', style=ButtonStyle()),\n",
       " 'button b': Button(description='b', style=ButtonStyle()),\n",
       " 'slider': FloatSlider(value=4.0, description='$x$'),\n",
       " 'text': FloatText(value=16.0, description='$x^2$', disabled=True),\n",
       " 'figure': Figure(axes=[Axis(label='X', scale=OrdinalScale(), side='bottom'), Axis(label='Y', orientation='vertical', scale=LinearScale(), side='left', tick_format='0.2f')], fig_margin={'top': 60, 'bottom': 60, 'left': 60, 'right': 60}, legend_location='bottom-right', marks=[Bars(colors=['steelblue'], interactions={'hover': 'tooltip'}, scales={'x': OrdinalScale(), 'y': LinearScale()}, scales_metadata={'x': {'orientation': 'horizontal', 'dimension': 'x'}, 'y': {'orientation': 'vertical', 'dimension': 'y'}, 'color': {'dimension': 'color'}}, tooltip_style={'opacity': 0.9}, x=array([ 0,  1,  2,  3,  4,  5,  6,  7,  8,  9, 10, 11, 12, 13, 14, 15, 16,\n",
       "        17, 18, 19]), y=array([[ 1.76405235,  0.40015721,  0.97873798,  2.2408932 ,  1.86755799,\n",
       "         -0.97727788,  0.95008842, -0.15135721, -0.10321885,  0.4105985 ,\n",
       "          0.14404357,  1.45427351,  0.76103773,  0.12167502,  0.44386323,\n",
       "          0.33367433,  1.49407907, -0.20515826,  0.3130677 , -0.85409574],\n",
       "        [-2.55298982,  0.6536186 ,  0.8644362 , -0.74216502,  2.26975462,\n",
       "         -1.45436567,  0.04575852, -0.18718385,  1.53277921,  1.46935877,\n",
       "          0.15494743,  0.37816252, -0.88778575, -1.98079647, -0.34791215,\n",
       "          0.15634897,  1.23029068,  1.20237985, -0.38732682, -0.30230275]])), Lines(colors=['red'], display_legend=True, interactions={'hover': 'tooltip'}, labels=['Line chart'], scales={'x': OrdinalScale(), 'y': LinearScale()}, scales_metadata={'x': {'orientation': 'horizontal', 'dimension': 'x'}, 'y': {'orientation': 'vertical', 'dimension': 'y'}, 'color': {'dimension': 'color'}}, stroke_width=3.0, tooltip_style={'opacity': 0.9}, x=array([ 0,  1,  2,  3,  4,  5,  6,  7,  8,  9, 10, 11, 12, 13, 14, 15, 16,\n",
       "        17, 18, 19]), y=array([-1.04855297, -1.42001794, -1.70627019,  1.9507754 , -0.50965218,\n",
       "        -0.4380743 , -1.25279536,  0.77749036, -1.61389785, -0.21274028,\n",
       "        -0.89546656,  0.3869025 , -0.51080514, -1.18063218, -0.02818223,\n",
       "         0.42833187,  0.06651722,  0.3024719 , -0.63432209, -0.36274117]))], scale_x=LinearScale(allow_padding=False, max=1.0, min=0.0), scale_y=LinearScale(allow_padding=False, max=1.0, min=0.0), title='API Example'),\n",
       " 'te6s55t': Button(description='a', style=ButtonStyle())}"
      ]
     },
     "execution_count": 3,
     "metadata": {},
     "output_type": "execute_result"
    }
   ],
   "source": [
    "w.children"
   ]
  },
  {
   "cell_type": "code",
   "execution_count": null,
   "metadata": {},
   "outputs": [],
   "source": [
    "w.update_signal"
   ]
  },
  {
   "cell_type": "code",
   "execution_count": null,
   "metadata": {},
   "outputs": [],
   "source": []
  }
 ],
 "metadata": {
  "kernelspec": {
   "display_name": "Python 3 (ipykernel)",
   "language": "python",
   "name": "python3"
  },
  "language_info": {
   "codemirror_mode": {
    "name": "ipython",
    "version": 3
   },
   "file_extension": ".py",
   "mimetype": "text/x-python",
   "name": "python",
   "nbconvert_exporter": "python",
   "pygments_lexer": "ipython3",
   "version": "3.9.7"
  }
 },
 "nbformat": 4,
 "nbformat_minor": 4
}
