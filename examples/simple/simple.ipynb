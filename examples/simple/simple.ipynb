{
 "cells": [
  {
   "cell_type": "markdown",
   "id": "3b34f77b-8f2a-4b3c-b300-0ed675709e1b",
   "metadata": {},
   "source": [
    "## Create a dashboard from existing widgets"
   ]
  },
  {
   "cell_type": "code",
   "execution_count": 2,
   "id": "f6a067ce-ce8c-430a-85aa-9f1a200499f7",
   "metadata": {},
   "outputs": [],
   "source": [
    "from ipyflex import FlexLayout\n",
    "import ipywidgets as widgets\n",
    "import plotly.graph_objects as go\n",
    "import numpy\n",
    "import math"
   ]
  },
  {
   "cell_type": "code",
   "execution_count": 3,
   "id": "47b3c7c0-28f9-467d-82ed-b3e5e231c102",
   "metadata": {},
   "outputs": [],
   "source": [
    "slider = widgets.FloatRangeSlider(description = 'Range')"
   ]
  },
  {
   "cell_type": "code",
   "execution_count": 4,
   "id": "dbccf1e1-c35e-4d20-a320-b3a10d74e270",
   "metadata": {},
   "outputs": [],
   "source": [
    "omega = widgets.FloatSlider(description = 'Omega',value = 1)"
   ]
  },
  {
   "cell_type": "code",
   "execution_count": 5,
   "id": "76232b02-339a-4680-899f-074f495a1ef9",
   "metadata": {},
   "outputs": [],
   "source": [
    "fig = go.FigureWidget()\n",
    "fig.add_trace(go.Scatter(x=[],y=[]))\n",
    "fig.update_layout(title = 'Hello Ipyflex')\n",
    "fig.update_traces\n",
    "\n",
    "f = lambda t: math.sin(t)\n",
    "def compute(*ignore):\n",
    "    min = slider.value[0]\n",
    "    max =  slider.value[1]\n",
    "    x = numpy.arange(min, max, (max-min)/100)\n",
    "    y =  [f(omega.value* _) for _ in x]\n",
    "    fig.data[0].x= x\n",
    "    fig.data[0].y= y\n",
    "\n",
    "slider.observe(compute, 'value')\n",
    "omega.observe(compute, 'value')"
   ]
  },
  {
   "cell_type": "code",
   "execution_count": 6,
   "id": "8ddfd53b-3103-43b9-aa8d-0a78bb8f328a",
   "metadata": {},
   "outputs": [],
   "source": [
    "all_widgets =  {'A slider widget':slider, 'Output result': fig, 'Another slider': omega}"
   ]
  },
  {
   "cell_type": "code",
   "execution_count": 7,
   "id": "2201576f-5314-4190-847f-c1ecf737aec0",
   "metadata": {},
   "outputs": [
    {
     "data": {
      "application/vnd.jupyter.widget-view+json": {
       "model_id": "ce4a34879bde454ead0cd3b465fb0ad0",
       "version_major": 2,
       "version_minor": 0
      },
      "text/plain": [
       "FlexLayout(children={'A slider widget': FloatRangeSlider(value=(25.0, 75.0), description='Range'), 'Output res…"
      ]
     },
     "metadata": {},
     "output_type": "display_data"
    }
   ],
   "source": [
    "w = FlexLayout(all_widgets, template = 'simple.json')\n",
    "w"
   ]
  },
  {
   "cell_type": "code",
   "execution_count": null,
   "id": "c0b12c10-e9d3-4ca4-b1ed-4100309cd0c4",
   "metadata": {},
   "outputs": [],
   "source": []
  }
 ],
 "metadata": {
  "kernelspec": {
   "display_name": "Python 3 (ipykernel)",
   "language": "python",
   "name": "python3"
  },
  "language_info": {
   "codemirror_mode": {
    "name": "ipython",
    "version": 3
   },
   "file_extension": ".py",
   "mimetype": "text/x-python",
   "name": "python",
   "nbconvert_exporter": "python",
   "pygments_lexer": "ipython3",
   "version": "3.9.7"
  }
 },
 "nbformat": 4,
 "nbformat_minor": 5
}
